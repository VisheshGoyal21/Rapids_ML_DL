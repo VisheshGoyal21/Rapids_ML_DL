{
 "cells": [
  {
   "cell_type": "code",
   "execution_count": 1,
   "id": "c307d502",
   "metadata": {
    "_cell_guid": "b1076dfc-b9ad-4769-8c92-a6c4dae69d19",
    "_uuid": "8f2839f25d086af736a60e9eeb907d3b93b6e0e5",
    "execution": {
     "iopub.execute_input": "2022-02-24T03:28:00.510128Z",
     "iopub.status.busy": "2022-02-24T03:28:00.508225Z",
     "iopub.status.idle": "2022-02-24T03:28:07.940830Z",
     "shell.execute_reply": "2022-02-24T03:28:07.941335Z",
     "shell.execute_reply.started": "2022-02-24T03:10:45.164578Z"
    },
    "papermill": {
     "duration": 7.459533,
     "end_time": "2022-02-24T03:28:07.941621",
     "exception": false,
     "start_time": "2022-02-24T03:28:00.482088",
     "status": "completed"
    },
    "tags": []
   },
   "outputs": [
    {
     "data": {
      "text/html": [
       "<div>\n",
       "<style scoped>\n",
       "    .dataframe tbody tr th:only-of-type {\n",
       "        vertical-align: middle;\n",
       "    }\n",
       "\n",
       "    .dataframe tbody tr th {\n",
       "        vertical-align: top;\n",
       "    }\n",
       "\n",
       "    .dataframe thead th {\n",
       "        text-align: right;\n",
       "    }\n",
       "</style>\n",
       "<table border=\"1\" class=\"dataframe\">\n",
       "  <thead>\n",
       "    <tr style=\"text-align: right;\">\n",
       "      <th></th>\n",
       "      <th>CRIM</th>\n",
       "      <th>ZN</th>\n",
       "      <th>INDUS</th>\n",
       "      <th>CHAS</th>\n",
       "      <th>NOX</th>\n",
       "      <th>RM</th>\n",
       "      <th>AGE</th>\n",
       "      <th>DIS</th>\n",
       "      <th>RAD</th>\n",
       "      <th>TAX</th>\n",
       "      <th>PTRATIO</th>\n",
       "      <th>B</th>\n",
       "      <th>LSTAT</th>\n",
       "      <th>TARGET</th>\n",
       "    </tr>\n",
       "  </thead>\n",
       "  <tbody>\n",
       "    <tr>\n",
       "      <th>0</th>\n",
       "      <td>0.00632</td>\n",
       "      <td>18.0</td>\n",
       "      <td>2.31</td>\n",
       "      <td>0.0</td>\n",
       "      <td>0.538</td>\n",
       "      <td>6.575</td>\n",
       "      <td>65.2</td>\n",
       "      <td>4.0900</td>\n",
       "      <td>1.0</td>\n",
       "      <td>296.0</td>\n",
       "      <td>15.3</td>\n",
       "      <td>396.90</td>\n",
       "      <td>4.98</td>\n",
       "      <td>24.0</td>\n",
       "    </tr>\n",
       "    <tr>\n",
       "      <th>1</th>\n",
       "      <td>0.02731</td>\n",
       "      <td>0.0</td>\n",
       "      <td>7.07</td>\n",
       "      <td>0.0</td>\n",
       "      <td>0.469</td>\n",
       "      <td>6.421</td>\n",
       "      <td>78.9</td>\n",
       "      <td>4.9671</td>\n",
       "      <td>2.0</td>\n",
       "      <td>242.0</td>\n",
       "      <td>17.8</td>\n",
       "      <td>396.90</td>\n",
       "      <td>9.14</td>\n",
       "      <td>21.6</td>\n",
       "    </tr>\n",
       "    <tr>\n",
       "      <th>2</th>\n",
       "      <td>0.02729</td>\n",
       "      <td>0.0</td>\n",
       "      <td>7.07</td>\n",
       "      <td>0.0</td>\n",
       "      <td>0.469</td>\n",
       "      <td>7.185</td>\n",
       "      <td>61.1</td>\n",
       "      <td>4.9671</td>\n",
       "      <td>2.0</td>\n",
       "      <td>242.0</td>\n",
       "      <td>17.8</td>\n",
       "      <td>392.83</td>\n",
       "      <td>4.03</td>\n",
       "      <td>34.7</td>\n",
       "    </tr>\n",
       "    <tr>\n",
       "      <th>3</th>\n",
       "      <td>0.03237</td>\n",
       "      <td>0.0</td>\n",
       "      <td>2.18</td>\n",
       "      <td>0.0</td>\n",
       "      <td>0.458</td>\n",
       "      <td>6.998</td>\n",
       "      <td>45.8</td>\n",
       "      <td>6.0622</td>\n",
       "      <td>3.0</td>\n",
       "      <td>222.0</td>\n",
       "      <td>18.7</td>\n",
       "      <td>394.63</td>\n",
       "      <td>2.94</td>\n",
       "      <td>33.4</td>\n",
       "    </tr>\n",
       "    <tr>\n",
       "      <th>4</th>\n",
       "      <td>0.06905</td>\n",
       "      <td>0.0</td>\n",
       "      <td>2.18</td>\n",
       "      <td>0.0</td>\n",
       "      <td>0.458</td>\n",
       "      <td>7.147</td>\n",
       "      <td>54.2</td>\n",
       "      <td>6.0622</td>\n",
       "      <td>3.0</td>\n",
       "      <td>222.0</td>\n",
       "      <td>18.7</td>\n",
       "      <td>396.90</td>\n",
       "      <td>5.33</td>\n",
       "      <td>36.2</td>\n",
       "    </tr>\n",
       "  </tbody>\n",
       "</table>\n",
       "</div>"
      ],
      "text/plain": [
       "      CRIM    ZN  INDUS  CHAS    NOX     RM   AGE     DIS  RAD    TAX  \\\n",
       "0  0.00632  18.0   2.31   0.0  0.538  6.575  65.2  4.0900  1.0  296.0   \n",
       "1  0.02731   0.0   7.07   0.0  0.469  6.421  78.9  4.9671  2.0  242.0   \n",
       "2  0.02729   0.0   7.07   0.0  0.469  7.185  61.1  4.9671  2.0  242.0   \n",
       "3  0.03237   0.0   2.18   0.0  0.458  6.998  45.8  6.0622  3.0  222.0   \n",
       "4  0.06905   0.0   2.18   0.0  0.458  7.147  54.2  6.0622  3.0  222.0   \n",
       "\n",
       "   PTRATIO       B  LSTAT  TARGET  \n",
       "0     15.3  396.90   4.98    24.0  \n",
       "1     17.8  396.90   9.14    21.6  \n",
       "2     17.8  392.83   4.03    34.7  \n",
       "3     18.7  394.63   2.94    33.4  \n",
       "4     18.7  396.90   5.33    36.2  "
      ]
     },
     "execution_count": 1,
     "metadata": {},
     "output_type": "execute_result"
    }
   ],
   "source": [
    "import cudf as pd\n",
    "from sklearn.datasets import load_boston\n",
    "boston = load_boston()\n",
    "df = pd.DataFrame(data=boston.data, columns = ['CRIM', 'ZN', 'INDUS', 'CHAS', 'NOX', 'RM', 'AGE', 'DIS', 'RAD', 'TAX', 'PTRATIO', 'B', 'LSTAT'])\n",
    "df['TARGET'] = boston.target\n",
    "df.head()"
   ]
  },
  {
   "cell_type": "code",
   "execution_count": 2,
   "id": "27b7698e",
   "metadata": {
    "execution": {
     "iopub.execute_input": "2022-02-24T03:28:07.988173Z",
     "iopub.status.busy": "2022-02-24T03:28:07.987264Z",
     "iopub.status.idle": "2022-02-24T03:28:08.249636Z",
     "shell.execute_reply": "2022-02-24T03:28:08.249078Z",
     "shell.execute_reply.started": "2022-02-24T03:11:55.593368Z"
    },
    "papermill": {
     "duration": 0.288019,
     "end_time": "2022-02-24T03:28:08.249775",
     "exception": false,
     "start_time": "2022-02-24T03:28:07.961756",
     "status": "completed"
    },
    "tags": []
   },
   "outputs": [],
   "source": [
    "import cupy as np\n",
    "X = df.iloc[:,0:13]\n",
    "Y = df.iloc[:, 13]\n",
    "Y = np.array(Y)\n",
    "Y = Y.reshape(-1,1)"
   ]
  },
  {
   "cell_type": "code",
   "execution_count": 3,
   "id": "9436f9ca",
   "metadata": {
    "execution": {
     "iopub.execute_input": "2022-02-24T03:28:08.292683Z",
     "iopub.status.busy": "2022-02-24T03:28:08.291714Z",
     "iopub.status.idle": "2022-02-24T03:28:08.297591Z",
     "shell.execute_reply": "2022-02-24T03:28:08.296999Z",
     "shell.execute_reply.started": "2022-02-24T03:13:12.259707Z"
    },
    "papermill": {
     "duration": 0.029276,
     "end_time": "2022-02-24T03:28:08.297740",
     "exception": false,
     "start_time": "2022-02-24T03:28:08.268464",
     "status": "completed"
    },
    "tags": []
   },
   "outputs": [],
   "source": [
    "from sklearn.preprocessing import StandardScaler\n",
    "scaler = StandardScaler()\n",
    "X_scaled = scaler.fit_transform(X.as_matrix())"
   ]
  },
  {
   "cell_type": "code",
   "execution_count": 4,
   "id": "b4bf643f",
   "metadata": {
    "execution": {
     "iopub.execute_input": "2022-02-24T03:28:08.338339Z",
     "iopub.status.busy": "2022-02-24T03:28:08.337394Z",
     "iopub.status.idle": "2022-02-24T03:28:08.340733Z",
     "shell.execute_reply": "2022-02-24T03:28:08.341324Z",
     "shell.execute_reply.started": "2022-02-24T03:13:19.636996Z"
    },
    "papermill": {
     "duration": 0.026432,
     "end_time": "2022-02-24T03:28:08.341499",
     "exception": false,
     "start_time": "2022-02-24T03:28:08.315067",
     "status": "completed"
    },
    "tags": []
   },
   "outputs": [
    {
     "data": {
      "text/plain": [
       "array([[-0.41978194,  0.28482986, -1.2879095 , ..., -1.45900038,\n",
       "         0.44105193, -1.0755623 ],\n",
       "       [-0.41733926, -0.48772236, -0.59338101, ..., -0.30309415,\n",
       "         0.44105193, -0.49243937],\n",
       "       [-0.41734159, -0.48772236, -0.59338101, ..., -0.30309415,\n",
       "         0.39642699, -1.2087274 ],\n",
       "       ...,\n",
       "       [-0.41344658, -0.48772236,  0.11573841, ...,  1.17646583,\n",
       "         0.44105193, -0.98304761],\n",
       "       [-0.40776407, -0.48772236,  0.11573841, ...,  1.17646583,\n",
       "         0.4032249 , -0.86530163],\n",
       "       [-0.41500016, -0.48772236,  0.11573841, ...,  1.17646583,\n",
       "         0.44105193, -0.66905833]])"
      ]
     },
     "execution_count": 4,
     "metadata": {},
     "output_type": "execute_result"
    }
   ],
   "source": [
    "X_scaled"
   ]
  },
  {
   "cell_type": "code",
   "execution_count": 5,
   "id": "71e2e4a2",
   "metadata": {
    "execution": {
     "iopub.execute_input": "2022-02-24T03:28:08.383619Z",
     "iopub.status.busy": "2022-02-24T03:28:08.382222Z",
     "iopub.status.idle": "2022-02-24T03:28:08.688467Z",
     "shell.execute_reply": "2022-02-24T03:28:08.687838Z",
     "shell.execute_reply.started": "2022-02-24T03:14:34.240703Z"
    },
    "papermill": {
     "duration": 0.328776,
     "end_time": "2022-02-24T03:28:08.688603",
     "exception": false,
     "start_time": "2022-02-24T03:28:08.359827",
     "status": "completed"
    },
    "tags": []
   },
   "outputs": [],
   "source": [
    "from sklearn.model_selection import train_test_split\n",
    "X_train, X_test, y_train, y_test = train_test_split(X_scaled, Y, test_size = 0.30, random_state=42)"
   ]
  },
  {
   "cell_type": "code",
   "execution_count": 6,
   "id": "02a44134",
   "metadata": {
    "execution": {
     "iopub.execute_input": "2022-02-24T03:28:08.727689Z",
     "iopub.status.busy": "2022-02-24T03:28:08.726602Z",
     "iopub.status.idle": "2022-02-24T03:28:08.735218Z",
     "shell.execute_reply": "2022-02-24T03:28:08.736065Z",
     "shell.execute_reply.started": "2022-02-24T03:15:51.338270Z"
    },
    "papermill": {
     "duration": 0.029631,
     "end_time": "2022-02-24T03:28:08.736306",
     "exception": false,
     "start_time": "2022-02-24T03:28:08.706675",
     "status": "completed"
    },
    "tags": []
   },
   "outputs": [
    {
     "name": "stdout",
     "output_type": "stream",
     "text": [
      "(354, 13)\n",
      "(152, 13)\n",
      "(354, 1)\n",
      "(152, 1)\n"
     ]
    }
   ],
   "source": [
    "print(X_train.shape)\n",
    "print(X_test.shape)\n",
    "print(y_train.shape)\n",
    "print(y_test.shape)"
   ]
  },
  {
   "cell_type": "code",
   "execution_count": 7,
   "id": "7a41b10a",
   "metadata": {
    "execution": {
     "iopub.execute_input": "2022-02-24T03:28:08.777706Z",
     "iopub.status.busy": "2022-02-24T03:28:08.777075Z",
     "iopub.status.idle": "2022-02-24T03:28:09.395616Z",
     "shell.execute_reply": "2022-02-24T03:28:09.395056Z",
     "shell.execute_reply.started": "2022-02-24T03:16:18.986773Z"
    },
    "papermill": {
     "duration": 0.640309,
     "end_time": "2022-02-24T03:28:09.395785",
     "exception": false,
     "start_time": "2022-02-24T03:28:08.755476",
     "status": "completed"
    },
    "tags": []
   },
   "outputs": [],
   "source": [
    "import cuml\n",
    "from cuml import Ridge"
   ]
  },
  {
   "cell_type": "code",
   "execution_count": 8,
   "id": "3539a00a",
   "metadata": {
    "execution": {
     "iopub.execute_input": "2022-02-24T03:28:09.440046Z",
     "iopub.status.busy": "2022-02-24T03:28:09.439002Z",
     "iopub.status.idle": "2022-02-24T03:28:11.531993Z",
     "shell.execute_reply": "2022-02-24T03:28:11.530868Z",
     "shell.execute_reply.started": "2022-02-24T03:17:35.653008Z"
    },
    "papermill": {
     "duration": 2.116731,
     "end_time": "2022-02-24T03:28:11.532138",
     "exception": false,
     "start_time": "2022-02-24T03:28:09.415407",
     "status": "completed"
    },
    "tags": []
   },
   "outputs": [],
   "source": [
    "alpha = np.array([1e-5])\n",
    "ridge = Ridge(alpha = alpha, fit_intercept = True, normalize = False, solver = \"eig\")"
   ]
  },
  {
   "cell_type": "code",
   "execution_count": 9,
   "id": "2d7f020b",
   "metadata": {
    "execution": {
     "iopub.execute_input": "2022-02-24T03:28:11.576934Z",
     "iopub.status.busy": "2022-02-24T03:28:11.575740Z",
     "iopub.status.idle": "2022-02-24T03:28:14.684139Z",
     "shell.execute_reply": "2022-02-24T03:28:14.683139Z",
     "shell.execute_reply.started": "2022-02-24T03:19:07.510029Z"
    },
    "papermill": {
     "duration": 3.133539,
     "end_time": "2022-02-24T03:28:14.684329",
     "exception": false,
     "start_time": "2022-02-24T03:28:11.550790",
     "status": "completed"
    },
    "tags": []
   },
   "outputs": [
    {
     "name": "stdout",
     "output_type": "stream",
     "text": [
      "Coefficients:\n",
      "[-1.14691398  0.83432582  0.33940664  0.79163618 -1.78472664  2.84783956\n",
      " -0.30429309 -2.9156248   2.11139957 -1.46519873 -1.96963459  1.07567768\n",
      " -3.90310711]\n",
      "Intercept:\n",
      "22.509454717075215\n"
     ]
    }
   ],
   "source": [
    "result_ridge = ridge.fit(X_train, y_train)\n",
    "print(\"Coefficients:\")\n",
    "print(result_ridge.coef_)\n",
    "print(\"Intercept:\")\n",
    "print(result_ridge.intercept_)"
   ]
  },
  {
   "cell_type": "code",
   "execution_count": 10,
   "id": "1de90a57",
   "metadata": {
    "execution": {
     "iopub.execute_input": "2022-02-24T03:28:14.728408Z",
     "iopub.status.busy": "2022-02-24T03:28:14.727351Z",
     "iopub.status.idle": "2022-02-24T03:28:14.732217Z",
     "shell.execute_reply": "2022-02-24T03:28:14.731660Z",
     "shell.execute_reply.started": "2022-02-24T03:19:38.807550Z"
    },
    "papermill": {
     "duration": 0.028485,
     "end_time": "2022-02-24T03:28:14.732334",
     "exception": false,
     "start_time": "2022-02-24T03:28:14.703849",
     "status": "completed"
    },
    "tags": []
   },
   "outputs": [],
   "source": [
    "preds = result_ridge.predict(X_test)"
   ]
  },
  {
   "cell_type": "code",
   "execution_count": 11,
   "id": "0e467ec2",
   "metadata": {
    "execution": {
     "iopub.execute_input": "2022-02-24T03:28:14.776392Z",
     "iopub.status.busy": "2022-02-24T03:28:14.775466Z",
     "iopub.status.idle": "2022-02-24T03:28:16.235785Z",
     "shell.execute_reply": "2022-02-24T03:28:16.234951Z",
     "shell.execute_reply.started": "2022-02-24T03:21:33.011400Z"
    },
    "papermill": {
     "duration": 1.485153,
     "end_time": "2022-02-24T03:28:16.236049",
     "exception": false,
     "start_time": "2022-02-24T03:28:14.750896",
     "status": "completed"
    },
    "tags": []
   },
   "outputs": [
    {
     "name": "stdout",
     "output_type": "stream",
     "text": [
      "MSE\n",
      "139.59931994445407\n",
      "R2 score:\n",
      "0.7112260015709102\n",
      "MAE:\n",
      "8.983415496553802\n"
     ]
    }
   ],
   "source": [
    "print(\"MSE\")\n",
    "print(cuml.metrics.regression.mean_squared_error(y_test, preds))\n",
    "print(\"R2 score:\")\n",
    "print(cuml.metrics.regression.r2_score(y_test, preds))\n",
    "print(\"MAE:\")\n",
    "print(cuml.metrics.regression.mean_absolute_error(y_test, preds))"
   ]
  },
  {
   "cell_type": "code",
   "execution_count": 12,
   "id": "d6a3cd5d",
   "metadata": {
    "execution": {
     "iopub.execute_input": "2022-02-24T03:28:16.286134Z",
     "iopub.status.busy": "2022-02-24T03:28:16.283827Z",
     "iopub.status.idle": "2022-02-24T03:28:16.286798Z",
     "shell.execute_reply": "2022-02-24T03:28:16.287418Z",
     "shell.execute_reply.started": "2022-02-24T03:23:36.009861Z"
    },
    "papermill": {
     "duration": 0.030365,
     "end_time": "2022-02-24T03:28:16.287553",
     "exception": false,
     "start_time": "2022-02-24T03:28:16.257188",
     "status": "completed"
    },
    "tags": []
   },
   "outputs": [],
   "source": [
    "from cuml.linear_model import Lasso\n",
    "ls = Lasso(alpha=0.1)"
   ]
  },
  {
   "cell_type": "code",
   "execution_count": 13,
   "id": "883164ef",
   "metadata": {
    "execution": {
     "iopub.execute_input": "2022-02-24T03:28:16.334019Z",
     "iopub.status.busy": "2022-02-24T03:28:16.332842Z",
     "iopub.status.idle": "2022-02-24T03:28:16.359927Z",
     "shell.execute_reply": "2022-02-24T03:28:16.360684Z",
     "shell.execute_reply.started": "2022-02-24T03:23:38.260443Z"
    },
    "papermill": {
     "duration": 0.053609,
     "end_time": "2022-02-24T03:28:16.360900",
     "exception": false,
     "start_time": "2022-02-24T03:28:16.307291",
     "status": "completed"
    },
    "tags": []
   },
   "outputs": [
    {
     "name": "stdout",
     "output_type": "stream",
     "text": [
      "Coefficients:\n",
      "[-0.82672061  0.39323408  0.          0.80490657 -1.28995831  2.93306839\n",
      " -0.11769109 -2.12965495  0.51459017 -0.04896216 -1.8254361   0.95338885\n",
      " -3.93544882]\n",
      "Intercept:\n",
      "22.513044683878363\n"
     ]
    }
   ],
   "source": [
    "result_lasso = ls.fit(X_train, y_train)\n",
    "print(\"Coefficients:\")\n",
    "print(result_lasso.coef_)\n",
    "print(\"Intercept:\")\n",
    "print(result_lasso.intercept_)"
   ]
  },
  {
   "cell_type": "code",
   "execution_count": 14,
   "id": "d17a71bc",
   "metadata": {
    "execution": {
     "iopub.execute_input": "2022-02-24T03:28:16.409978Z",
     "iopub.status.busy": "2022-02-24T03:28:16.408911Z",
     "iopub.status.idle": "2022-02-24T03:28:16.413052Z",
     "shell.execute_reply": "2022-02-24T03:28:16.413685Z",
     "shell.execute_reply.started": "2022-02-24T03:24:21.006899Z"
    },
    "papermill": {
     "duration": 0.030723,
     "end_time": "2022-02-24T03:28:16.413822",
     "exception": false,
     "start_time": "2022-02-24T03:28:16.383099",
     "status": "completed"
    },
    "tags": []
   },
   "outputs": [],
   "source": [
    "preds = result_lasso.predict(X_test)"
   ]
  },
  {
   "cell_type": "code",
   "execution_count": 15,
   "id": "f813e7fa",
   "metadata": {
    "execution": {
     "iopub.execute_input": "2022-02-24T03:28:16.464152Z",
     "iopub.status.busy": "2022-02-24T03:28:16.463130Z",
     "iopub.status.idle": "2022-02-24T03:28:16.472488Z",
     "shell.execute_reply": "2022-02-24T03:28:16.471938Z",
     "shell.execute_reply.started": "2022-02-24T03:24:38.107826Z"
    },
    "papermill": {
     "duration": 0.03785,
     "end_time": "2022-02-24T03:28:16.472606",
     "exception": false,
     "start_time": "2022-02-24T03:28:16.434756",
     "status": "completed"
    },
    "tags": []
   },
   "outputs": [
    {
     "name": "stdout",
     "output_type": "stream",
     "text": [
      "MSE\n",
      "133.07640456326536\n",
      "R2 score:\n",
      "0.6943175280788381\n",
      "MAE:\n",
      "8.773179529124079\n"
     ]
    }
   ],
   "source": [
    "print(\"MSE\")\n",
    "print(cuml.metrics.regression.mean_squared_error(y_test, preds))\n",
    "print(\"R2 score:\")\n",
    "print(cuml.metrics.regression.r2_score(y_test, preds))\n",
    "print(\"MAE:\")\n",
    "print(cuml.metrics.regression.mean_absolute_error(y_test, preds))"
   ]
  },
  {
   "cell_type": "code",
   "execution_count": null,
   "id": "e4954b0b",
   "metadata": {
    "papermill": {
     "duration": 0.021487,
     "end_time": "2022-02-24T03:28:16.516007",
     "exception": false,
     "start_time": "2022-02-24T03:28:16.494520",
     "status": "completed"
    },
    "tags": []
   },
   "outputs": [],
   "source": []
  }
 ],
 "metadata": {
  "kernelspec": {
   "display_name": "Python 3",
   "language": "python",
   "name": "python3"
  },
  "language_info": {
   "codemirror_mode": {
    "name": "ipython",
    "version": 3
   },
   "file_extension": ".py",
   "mimetype": "text/x-python",
   "name": "python",
   "nbconvert_exporter": "python",
   "pygments_lexer": "ipython3",
   "version": "3.7.12"
  },
  "papermill": {
   "default_parameters": {},
   "duration": 26.980163,
   "end_time": "2022-02-24T03:28:17.948548",
   "environment_variables": {},
   "exception": null,
   "input_path": "__notebook__.ipynb",
   "output_path": "__notebook__.ipynb",
   "parameters": {},
   "start_time": "2022-02-24T03:27:50.968385",
   "version": "2.3.3"
  }
 },
 "nbformat": 4,
 "nbformat_minor": 5
}
